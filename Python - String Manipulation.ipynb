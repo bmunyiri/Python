{
 "cells": [
  {
   "cell_type": "markdown",
   "id": "1f2bf341",
   "metadata": {},
   "source": [
    "# String Manipulation\n",
    "\n"
   ]
  },
  {
   "cell_type": "code",
   "execution_count": 1,
   "id": "7f6b12ad",
   "metadata": {},
   "outputs": [],
   "source": [
    "symbols = 'AAPL IBM MSFT YHOO SCO'"
   ]
  },
  {
   "cell_type": "code",
   "execution_count": 2,
   "id": "5f6ee58b",
   "metadata": {},
   "outputs": [],
   "source": [
    "#concatenates a new symbol \"GOOG\" to the end of symbols\n",
    "symbols += ' GOOG'  "
   ]
  },
  {
   "cell_type": "code",
   "execution_count": 3,
   "id": "d9e3041d",
   "metadata": {},
   "outputs": [
    {
     "data": {
      "text/plain": [
       "'AAPL IBM MSFT YHOO SCO GOOG'"
      ]
     },
     "execution_count": 3,
     "metadata": {},
     "output_type": "execute_result"
    }
   ],
   "source": [
    "symbols"
   ]
  },
  {
   "cell_type": "code",
   "execution_count": 4,
   "id": "d2d367e8",
   "metadata": {},
   "outputs": [],
   "source": [
    "#adding \"HPQ\" to the beginning of symbols\n",
    "symbols = 'HPQ ' + symbols "
   ]
  },
  {
   "cell_type": "code",
   "execution_count": 5,
   "id": "782bbab1",
   "metadata": {},
   "outputs": [
    {
     "data": {
      "text/plain": [
       "'HPQ AAPL IBM MSFT YHOO SCO GOOG'"
      ]
     },
     "execution_count": 5,
     "metadata": {},
     "output_type": "execute_result"
    }
   ],
   "source": [
    "symbols"
   ]
  },
  {
   "cell_type": "markdown",
   "id": "52987f60",
   "metadata": {},
   "source": [
    "## Membership testing (substring testing)"
   ]
  },
  {
   "cell_type": "code",
   "execution_count": 6,
   "id": "e075f91c",
   "metadata": {},
   "outputs": [
    {
     "data": {
      "text/plain": [
       "True"
      ]
     },
     "execution_count": 6,
     "metadata": {},
     "output_type": "execute_result"
    }
   ],
   "source": [
    "'IBM' in symbols"
   ]
  },
  {
   "cell_type": "code",
   "execution_count": 7,
   "id": "eb25c5ec",
   "metadata": {},
   "outputs": [
    {
     "data": {
      "text/plain": [
       "True"
      ]
     },
     "execution_count": 7,
     "metadata": {},
     "output_type": "execute_result"
    }
   ],
   "source": [
    " 'AA' in symbols"
   ]
  },
  {
   "cell_type": "markdown",
   "id": "9bdd0243",
   "metadata": {},
   "source": [
    "## String Methods"
   ]
  },
  {
   "cell_type": "code",
   "execution_count": 9,
   "id": "c1903a97",
   "metadata": {},
   "outputs": [
    {
     "data": {
      "text/plain": [
       "'hpq aapl ibm msft yhoo sco goog'"
      ]
     },
     "execution_count": 9,
     "metadata": {},
     "output_type": "execute_result"
    }
   ],
   "source": [
    "symbols.lower()\n"
   ]
  },
  {
   "cell_type": "code",
   "execution_count": 10,
   "id": "ff81710d",
   "metadata": {},
   "outputs": [
    {
     "data": {
      "text/plain": [
       "'HPQ AAPL IBM MSFT YHOO SCO GOOG'"
      ]
     },
     "execution_count": 10,
     "metadata": {},
     "output_type": "execute_result"
    }
   ],
   "source": [
    "symbols       \n"
   ]
  },
  {
   "cell_type": "markdown",
   "id": "ba31bc59",
   "metadata": {},
   "source": [
    "## Remember, strings are always read-only. If you want to save the result of an operation, you need to place it in a variable:"
   ]
  },
  {
   "cell_type": "code",
   "execution_count": 12,
   "id": "7d50dcfd",
   "metadata": {},
   "outputs": [
    {
     "data": {
      "text/plain": [
       "'hpq aapl ibm msft yhoo sco goog'"
      ]
     },
     "execution_count": 12,
     "metadata": {},
     "output_type": "execute_result"
    }
   ],
   "source": [
    "lowersyms = symbols.lower()\n",
    "lowersyms"
   ]
  },
  {
   "cell_type": "code",
   "execution_count": 13,
   "id": "32100066",
   "metadata": {},
   "outputs": [
    {
     "data": {
      "text/plain": [
       "13"
      ]
     },
     "execution_count": 13,
     "metadata": {},
     "output_type": "execute_result"
    }
   ],
   "source": [
    "symbols.find('MSFT')"
   ]
  },
  {
   "cell_type": "code",
   "execution_count": 14,
   "id": "09c92c8f",
   "metadata": {},
   "outputs": [
    {
     "data": {
      "text/plain": [
       "'MSFT'"
      ]
     },
     "execution_count": 14,
     "metadata": {},
     "output_type": "execute_result"
    }
   ],
   "source": [
    "symbols[13:17]"
   ]
  },
  {
   "cell_type": "code",
   "execution_count": 15,
   "id": "28a3f89b",
   "metadata": {},
   "outputs": [],
   "source": [
    "symbols = symbols.replace('SCO','')"
   ]
  },
  {
   "cell_type": "code",
   "execution_count": 16,
   "id": "c2a7fa92",
   "metadata": {},
   "outputs": [
    {
     "data": {
      "text/plain": [
       "'HPQ AAPL IBM MSFT YHOO  GOOG'"
      ]
     },
     "execution_count": 16,
     "metadata": {},
     "output_type": "execute_result"
    }
   ],
   "source": [
    "symbols"
   ]
  },
  {
   "cell_type": "markdown",
   "id": "75bf4bd5",
   "metadata": {},
   "source": [
    "## split it into a list of names using the split() operation of strings:"
   ]
  },
  {
   "cell_type": "code",
   "execution_count": 24,
   "id": "134429c5",
   "metadata": {},
   "outputs": [
    {
     "data": {
      "text/plain": [
       "['HPQ', 'AAPL', 'IBM', 'MSFT', 'YHOO', 'GOOG']"
      ]
     },
     "execution_count": 24,
     "metadata": {},
     "output_type": "execute_result"
    }
   ],
   "source": [
    "symlist=symbols.split()\n",
    "symlist"
   ]
  },
  {
   "cell_type": "markdown",
   "id": "a45e7954",
   "metadata": {},
   "source": [
    "## reassigning one of the items:"
   ]
  },
  {
   "cell_type": "code",
   "execution_count": 23,
   "id": "e91bd817",
   "metadata": {},
   "outputs": [
    {
     "data": {
      "text/plain": [
       "['HPQ', 'AAPL', 'AIG', 'MSFT', 'YHOO', 'GOOG']"
      ]
     },
     "execution_count": 23,
     "metadata": {},
     "output_type": "execute_result"
    }
   ],
   "source": [
    " symlist[2] = 'AIG'\n",
    " symlist"
   ]
  },
  {
   "cell_type": "markdown",
   "id": "512d3e06",
   "metadata": {},
   "source": [
    "## Looping over list items"
   ]
  },
  {
   "cell_type": "code",
   "execution_count": 25,
   "id": "21b73590",
   "metadata": {},
   "outputs": [
    {
     "name": "stdout",
     "output_type": "stream",
     "text": [
      "s = HPQ\n",
      "s = AAPL\n",
      "s = IBM\n",
      "s = MSFT\n",
      "s = YHOO\n",
      "s = GOOG\n"
     ]
    }
   ],
   "source": [
    "for s in symlist:\n",
    "        print('s =', s)"
   ]
  },
  {
   "cell_type": "markdown",
   "id": "93282c03",
   "metadata": {},
   "source": [
    "# Appending, inserting, and deleting items"
   ]
  },
  {
   "cell_type": "markdown",
   "id": "6d7b3c45",
   "metadata": {},
   "source": [
    "## the append() method to add the symbol 'RHT' to end of symlist."
   ]
  },
  {
   "cell_type": "code",
   "execution_count": 26,
   "id": "cc99ebbd",
   "metadata": {},
   "outputs": [
    {
     "data": {
      "text/plain": [
       "['HPQ', 'AAPL', 'IBM', 'MSFT', 'YHOO', 'GOOG', 'RHT']"
      ]
     },
     "execution_count": 26,
     "metadata": {},
     "output_type": "execute_result"
    }
   ],
   "source": [
    "symlist.append('RHT')\n",
    "symlist"
   ]
  },
  {
   "cell_type": "markdown",
   "id": "1b02487d",
   "metadata": {},
   "source": [
    "## the insert() method to insert the symbol 'AA' as the second item in the list."
   ]
  },
  {
   "cell_type": "code",
   "execution_count": 28,
   "id": "72c55fe8",
   "metadata": {},
   "outputs": [
    {
     "data": {
      "text/plain": [
       "['HPQ', 'AA', 'AA', 'AAPL', 'IBM', 'MSFT', 'YHOO', 'GOOG', 'RHT']"
      ]
     },
     "execution_count": 28,
     "metadata": {},
     "output_type": "execute_result"
    }
   ],
   "source": [
    "symlist.insert(1,'AA')\n",
    "symlist"
   ]
  },
  {
   "cell_type": "markdown",
   "id": "e33c0621",
   "metadata": {},
   "source": [
    "## the remove() method to remove 'MSFT' from the list."
   ]
  },
  {
   "cell_type": "code",
   "execution_count": 29,
   "id": "cbbe5812",
   "metadata": {},
   "outputs": [
    {
     "data": {
      "text/plain": [
       "['HPQ', 'AA', 'AA', 'AAPL', 'IBM', 'YHOO', 'GOOG', 'RHT']"
      ]
     },
     "execution_count": 29,
     "metadata": {},
     "output_type": "execute_result"
    }
   ],
   "source": [
    "symlist.remove('MSFT')\n",
    "symlist"
   ]
  },
  {
   "cell_type": "code",
   "execution_count": 30,
   "id": "fddbbeee",
   "metadata": {},
   "outputs": [
    {
     "ename": "ValueError",
     "evalue": "list.remove(x): x not in list",
     "output_type": "error",
     "traceback": [
      "\u001b[1;31m---------------------------------------------------------------------------\u001b[0m",
      "\u001b[1;31mValueError\u001b[0m                                Traceback (most recent call last)",
      "Input \u001b[1;32mIn [30]\u001b[0m, in \u001b[0;36m<cell line: 1>\u001b[1;34m()\u001b[0m\n\u001b[1;32m----> 1\u001b[0m \u001b[43msymlist\u001b[49m\u001b[38;5;241;43m.\u001b[39;49m\u001b[43mremove\u001b[49m\u001b[43m(\u001b[49m\u001b[38;5;124;43m'\u001b[39;49m\u001b[38;5;124;43mMSFT\u001b[39;49m\u001b[38;5;124;43m'\u001b[39;49m\u001b[43m)\u001b[49m\n",
      "\u001b[1;31mValueError\u001b[0m: list.remove(x): x not in list"
     ]
    }
   ],
   "source": [
    "symlist.remove('MSFT')"
   ]
  },
  {
   "cell_type": "markdown",
   "id": "e11359db",
   "metadata": {},
   "source": [
    "## the index() method to find the position of 'YHOO' in the list."
   ]
  },
  {
   "cell_type": "code",
   "execution_count": 32,
   "id": "6562f058",
   "metadata": {},
   "outputs": [
    {
     "data": {
      "text/plain": [
       "5"
      ]
     },
     "execution_count": 32,
     "metadata": {},
     "output_type": "execute_result"
    }
   ],
   "source": [
    "symlist.index('YHOO')"
   ]
  },
  {
   "cell_type": "code",
   "execution_count": 33,
   "id": "e5a4bc38",
   "metadata": {},
   "outputs": [
    {
     "data": {
      "text/plain": [
       "'YHOO'"
      ]
     },
     "execution_count": 33,
     "metadata": {},
     "output_type": "execute_result"
    }
   ],
   "source": [
    "symlist[5]"
   ]
  },
  {
   "cell_type": "markdown",
   "id": "2ddd9567",
   "metadata": {},
   "source": [
    "## the sort() method"
   ]
  },
  {
   "cell_type": "code",
   "execution_count": 34,
   "id": "f3ca15a2",
   "metadata": {},
   "outputs": [
    {
     "data": {
      "text/plain": [
       "['HPQ', 'AA', 'AA', 'AAPL', 'IBM', 'YHOO', 'GOOG', 'RHT']"
      ]
     },
     "execution_count": 34,
     "metadata": {},
     "output_type": "execute_result"
    }
   ],
   "source": [
    "symlist\n"
   ]
  },
  {
   "cell_type": "code",
   "execution_count": 36,
   "id": "446293a6",
   "metadata": {},
   "outputs": [
    {
     "data": {
      "text/plain": [
       "['AA', 'AA', 'AAPL', 'GOOG', 'HPQ', 'IBM', 'RHT', 'YHOO']"
      ]
     },
     "execution_count": 36,
     "metadata": {},
     "output_type": "execute_result"
    }
   ],
   "source": [
    "symlist.sort()\n",
    "symlist"
   ]
  },
  {
   "cell_type": "code",
   "execution_count": 37,
   "id": "ddda6817",
   "metadata": {},
   "outputs": [
    {
     "data": {
      "text/plain": [
       "['YHOO', 'RHT', 'IBM', 'HPQ', 'GOOG', 'AAPL', 'AA', 'AA']"
      ]
     },
     "execution_count": 37,
     "metadata": {},
     "output_type": "execute_result"
    }
   ],
   "source": [
    "symlist.sort(reverse=True)\n",
    "symlist"
   ]
  },
  {
   "cell_type": "markdown",
   "id": "021a04c2",
   "metadata": {},
   "source": [
    "## Dictionaries"
   ]
  },
  {
   "cell_type": "code",
   "execution_count": 40,
   "id": "230e468a",
   "metadata": {},
   "outputs": [],
   "source": [
    "prices = { 'IBM': 91.1, 'GOOG': 490.1, 'AAPL':312.23 }\n"
   ]
  },
  {
   "cell_type": "markdown",
   "id": "be89d2d9",
   "metadata": {},
   "source": [
    "### To get a list of keys "
   ]
  },
  {
   "cell_type": "code",
   "execution_count": 41,
   "id": "9dbb00af",
   "metadata": {},
   "outputs": [
    {
     "data": {
      "text/plain": [
       "['IBM', 'GOOG', 'AAPL']"
      ]
     },
     "execution_count": 41,
     "metadata": {},
     "output_type": "execute_result"
    }
   ],
   "source": [
    "list(prices)"
   ]
  },
  {
   "cell_type": "code",
   "execution_count": 39,
   "id": "0cd507f5",
   "metadata": {},
   "outputs": [
    {
     "data": {
      "text/plain": [
       "{'IBM': 91.1, 'GOOG': 490.1, 'AAPL': 312.23}"
      ]
     },
     "execution_count": 39,
     "metadata": {},
     "output_type": "execute_result"
    }
   ],
   "source": [
    "prices"
   ]
  },
  {
   "cell_type": "code",
   "execution_count": null,
   "id": "1a51d74f",
   "metadata": {},
   "outputs": [],
   "source": []
  },
  {
   "cell_type": "code",
   "execution_count": null,
   "id": "b26f893d",
   "metadata": {},
   "outputs": [],
   "source": []
  }
 ],
 "metadata": {
  "kernelspec": {
   "display_name": "Python 3 (ipykernel)",
   "language": "python",
   "name": "python3"
  },
  "language_info": {
   "codemirror_mode": {
    "name": "ipython",
    "version": 3
   },
   "file_extension": ".py",
   "mimetype": "text/x-python",
   "name": "python",
   "nbconvert_exporter": "python",
   "pygments_lexer": "ipython3",
   "version": "3.9.12"
  }
 },
 "nbformat": 4,
 "nbformat_minor": 5
}
