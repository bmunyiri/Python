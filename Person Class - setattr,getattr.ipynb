{
 "cells": [
  {
   "cell_type": "code",
   "execution_count": 12,
   "id": "b8c75005",
   "metadata": {},
   "outputs": [
    {
     "data": {
      "text/plain": [
       "'Hello paul'"
      ]
     },
     "execution_count": 12,
     "metadata": {},
     "output_type": "execute_result"
    }
   ],
   "source": [
    "class Person:\n",
    "    def __init__(self, name):\n",
    "        self.name = name\n",
    "        \n",
    "    def greet(self):\n",
    "        return f'Hello {self.name}' \n",
    "    \n",
    "paul = Person(\"paul\")\n",
    "paul.name\n",
    "paul.greet()"
   ]
  },
  {
   "cell_type": "code",
   "execution_count": 13,
   "id": "44bf2bbe",
   "metadata": {},
   "outputs": [
    {
     "data": {
      "text/plain": [
       "['__class__',\n",
       " '__delattr__',\n",
       " '__dict__',\n",
       " '__dir__',\n",
       " '__doc__',\n",
       " '__eq__',\n",
       " '__format__',\n",
       " '__ge__',\n",
       " '__getattribute__',\n",
       " '__gt__',\n",
       " '__hash__',\n",
       " '__init__',\n",
       " '__init_subclass__',\n",
       " '__le__',\n",
       " '__lt__',\n",
       " '__module__',\n",
       " '__ne__',\n",
       " '__new__',\n",
       " '__reduce__',\n",
       " '__reduce_ex__',\n",
       " '__repr__',\n",
       " '__setattr__',\n",
       " '__sizeof__',\n",
       " '__str__',\n",
       " '__subclasshook__',\n",
       " '__weakref__',\n",
       " 'greet',\n",
       " 'name']"
      ]
     },
     "execution_count": 13,
     "metadata": {},
     "output_type": "execute_result"
    }
   ],
   "source": [
    "dir(paul)"
   ]
  },
  {
   "cell_type": "code",
   "execution_count": 16,
   "id": "92feb170",
   "metadata": {},
   "outputs": [],
   "source": [
    "setattr(paul,\"name\",\"john\")"
   ]
  },
  {
   "cell_type": "code",
   "execution_count": 17,
   "id": "75f11292",
   "metadata": {},
   "outputs": [
    {
     "data": {
      "text/plain": [
       "'john'"
      ]
     },
     "execution_count": 17,
     "metadata": {},
     "output_type": "execute_result"
    }
   ],
   "source": [
    "paul.name"
   ]
  },
  {
   "cell_type": "code",
   "execution_count": 18,
   "id": "edc5c078",
   "metadata": {},
   "outputs": [
    {
     "data": {
      "text/plain": [
       "'john'"
      ]
     },
     "execution_count": 18,
     "metadata": {},
     "output_type": "execute_result"
    }
   ],
   "source": [
    "getattr(paul,\"name\")"
   ]
  },
  {
   "cell_type": "code",
   "execution_count": 21,
   "id": "457865e8",
   "metadata": {},
   "outputs": [
    {
     "name": "stdout",
     "output_type": "stream",
     "text": [
      "Enter your name: paul\n",
      "Hello paul\n",
      "Enter your name: \n"
     ]
    }
   ],
   "source": [
    "while True:\n",
    "    name = input(\"Enter your name: \")\n",
    "    if not name:\n",
    "        break\n",
    "    print(f'Hello {name}' )"
   ]
  },
  {
   "cell_type": "code",
   "execution_count": 26,
   "id": "d48da705",
   "metadata": {},
   "outputs": [
    {
     "name": "stdout",
     "output_type": "stream",
     "text": [
      "a=10,_=20,c=30\n"
     ]
    }
   ],
   "source": [
    "list = [10,20,30]\n",
    "a,_,c = list\n",
    "print(f'{a=},{_=},{c=}')"
   ]
  },
  {
   "cell_type": "code",
   "execution_count": null,
   "id": "5ccd0b93",
   "metadata": {},
   "outputs": [],
   "source": []
  }
 ],
 "metadata": {
  "kernelspec": {
   "display_name": "Python 3 (ipykernel)",
   "language": "python",
   "name": "python3"
  },
  "language_info": {
   "codemirror_mode": {
    "name": "ipython",
    "version": 3
   },
   "file_extension": ".py",
   "mimetype": "text/x-python",
   "name": "python",
   "nbconvert_exporter": "python",
   "pygments_lexer": "ipython3",
   "version": "3.9.12"
  }
 },
 "nbformat": 4,
 "nbformat_minor": 5
}
