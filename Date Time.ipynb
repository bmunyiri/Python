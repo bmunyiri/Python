{
 "cells": [
  {
   "cell_type": "markdown",
   "id": "5bae0099",
   "metadata": {},
   "source": [
    "### Import Date Module and check date now"
   ]
  },
  {
   "cell_type": "code",
   "execution_count": 1,
   "id": "c052ae33",
   "metadata": {},
   "outputs": [
    {
     "data": {
      "text/plain": [
       "datetime.datetime(2023, 9, 22, 13, 12, 33, 277904)"
      ]
     },
     "execution_count": 1,
     "metadata": {},
     "output_type": "execute_result"
    }
   ],
   "source": [
    "import datetime\n",
    "datetime.datetime.now()"
   ]
  },
  {
   "cell_type": "markdown",
   "id": "12a22749",
   "metadata": {},
   "source": [
    "### Create Date Object using a constructor"
   ]
  },
  {
   "cell_type": "code",
   "execution_count": 2,
   "id": "490009d6",
   "metadata": {},
   "outputs": [
    {
     "name": "stdout",
     "output_type": "stream",
     "text": [
      "2023-09-23 00:00:00\n"
     ]
    }
   ],
   "source": [
    "x=datetime.datetime(2023,9,23)\n",
    "print(x)"
   ]
  },
  {
   "cell_type": "markdown",
   "id": "6e9cf7ac",
   "metadata": {},
   "source": [
    "## String Format"
   ]
  },
  {
   "cell_type": "code",
   "execution_count": 4,
   "id": "8e697773",
   "metadata": {},
   "outputs": [
    {
     "name": "stdout",
     "output_type": "stream",
     "text": [
      "2023\n"
     ]
    }
   ],
   "source": [
    "from datetime import datetime\n",
    "\n",
    "# Get the current year\n",
    "current_year = datetime.now().strftime('%Y')\n",
    "\n",
    "# Print the current year\n",
    "print(current_year)\n"
   ]
  },
  {
   "cell_type": "code",
   "execution_count": 7,
   "id": "1493dcf1",
   "metadata": {},
   "outputs": [
    {
     "name": "stdout",
     "output_type": "stream",
     "text": [
      "01PM\n"
     ]
    }
   ],
   "source": [
    "# Create a datetime object\n",
    "now = datetime.datetime.now()\n",
    "\n",
    "# Format the datetime object using strftime\n",
    "formatted_time = now.strftime(\"%I%p\")\n",
    "print(formatted_time)\n"
   ]
  },
  {
   "cell_type": "code",
   "execution_count": null,
   "id": "fb895f19",
   "metadata": {},
   "outputs": [],
   "source": []
  }
 ],
 "metadata": {
  "kernelspec": {
   "display_name": "Python 3 (ipykernel)",
   "language": "python",
   "name": "python3"
  },
  "language_info": {
   "codemirror_mode": {
    "name": "ipython",
    "version": 3
   },
   "file_extension": ".py",
   "mimetype": "text/x-python",
   "name": "python",
   "nbconvert_exporter": "python",
   "pygments_lexer": "ipython3",
   "version": "3.9.12"
  }
 },
 "nbformat": 4,
 "nbformat_minor": 5
}
