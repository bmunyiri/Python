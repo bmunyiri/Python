{
 "cells": [
  {
   "cell_type": "code",
   "execution_count": 6,
   "id": "bc28900a",
   "metadata": {},
   "outputs": [
    {
     "name": "stdout",
     "output_type": "stream",
     "text": [
      "Enter First Number: 35\n",
      "Enter Second Number: 0\n",
      "Cannot Divde by Zero\n",
      "We End Here...\n"
     ]
    }
   ],
   "source": [
    "a = int(input(\"Enter First Number: \"))\n",
    "b = int(input(\"Enter Second Number: \"))\n",
    "\n",
    "try:\n",
    "    c=a/b\n",
    "    print(c)\n",
    "except:\n",
    "    print( \"Cannot Divde by Zero\")\n",
    "else:\n",
    "    print( \"All Good\")\n",
    "finally:\n",
    "    print( \"We End Here...\")\n",
    "    "
   ]
  },
  {
   "cell_type": "code",
   "execution_count": 14,
   "id": "db65dd00",
   "metadata": {},
   "outputs": [
    {
     "name": "stdout",
     "output_type": "stream",
     "text": [
      "Enter Student Marks: 101\n",
      "marks should be between 0 and 100\n",
      "101\n"
     ]
    }
   ],
   "source": [
    "class invalidInput(Exception):\n",
    "    pass\n",
    "\n",
    "marks = int(input(\"Enter Student Marks: \"))\n",
    "\n",
    "try:\n",
    "  \n",
    "    if marks <0 or marks>100:\n",
    "        raise invalidInput(\"marks should be between 0 and 100\")\n",
    "    \n",
    "except invalidInput as e:\n",
    "    print(e)\n",
    "    \n",
    "print(marks)"
   ]
  },
  {
   "cell_type": "code",
   "execution_count": 12,
   "id": "10aa9b62",
   "metadata": {},
   "outputs": [
    {
     "name": "stdout",
     "output_type": "stream",
     "text": [
      "Enter student Number101\n",
      "marks should be between 0 and 100\n",
      "101\n"
     ]
    }
   ],
   "source": [
    "class invalidinput(Exception):\n",
    "    pass\n",
    "\n",
    "marks = int(input(\"Enter student Number\"))\n",
    "\n",
    "try:\n",
    "    if marks <0 or marks>100:\n",
    "        raise invalidinput\n",
    "        \n",
    "except:\n",
    "    print(\"marks should be between 0 and 100\")\n",
    "    \n",
    "print(marks)"
   ]
  },
  {
   "cell_type": "code",
   "execution_count": null,
   "id": "5a412f90",
   "metadata": {},
   "outputs": [],
   "source": []
  }
 ],
 "metadata": {
  "kernelspec": {
   "display_name": "Python 3 (ipykernel)",
   "language": "python",
   "name": "python3"
  },
  "language_info": {
   "codemirror_mode": {
    "name": "ipython",
    "version": 3
   },
   "file_extension": ".py",
   "mimetype": "text/x-python",
   "name": "python",
   "nbconvert_exporter": "python",
   "pygments_lexer": "ipython3",
   "version": "3.9.12"
  }
 },
 "nbformat": 4,
 "nbformat_minor": 5
}
